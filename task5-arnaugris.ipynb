{
 "cells": [
  {
   "cell_type": "code",
   "execution_count": 1,
   "id": "9a246a1a",
   "metadata": {
    "execution": {
     "iopub.execute_input": "2022-01-11T12:19:02.964078Z",
     "iopub.status.busy": "2022-01-11T12:19:02.962581Z",
     "iopub.status.idle": "2022-01-11T12:19:07.601267Z",
     "shell.execute_reply": "2022-01-11T12:19:07.601784Z",
     "shell.execute_reply.started": "2022-01-11T11:33:21.979503Z"
    },
    "papermill": {
     "duration": 4.65971,
     "end_time": "2022-01-11T12:19:07.602056",
     "exception": false,
     "start_time": "2022-01-11T12:19:02.942346",
     "status": "completed"
    },
    "tags": []
   },
   "outputs": [
    {
     "name": "stdout",
     "output_type": "stream",
     "text": [
      "/kaggle/input/mlub2021-session8/train.txt\n",
      "/kaggle/input/mlub2021-session8/test/test/test/test_composite000000426.png\n",
      "/kaggle/input/mlub2021-session8/train/train/train/train_composite000012068.png\n"
     ]
    }
   ],
   "source": [
    "import numpy as np\n",
    "import pandas as pd \n",
    "\n",
    "import os\n",
    "for dirname, _, filenames in os.walk('/kaggle/input'):\n",
    "    for filename in filenames:\n",
    "        print(os.path.join(dirname, filename))\n",
    "        break"
   ]
  },
  {
   "cell_type": "code",
   "execution_count": 2,
   "id": "01c0b166",
   "metadata": {
    "execution": {
     "iopub.execute_input": "2022-01-11T12:19:07.641774Z",
     "iopub.status.busy": "2022-01-11T12:19:07.640948Z",
     "iopub.status.idle": "2022-01-11T12:19:13.494900Z",
     "shell.execute_reply": "2022-01-11T12:19:13.495561Z",
     "shell.execute_reply.started": "2022-01-11T11:33:22.039887Z"
    },
    "papermill": {
     "duration": 5.87427,
     "end_time": "2022-01-11T12:19:13.495793",
     "exception": false,
     "start_time": "2022-01-11T12:19:07.621523",
     "status": "completed"
    },
    "tags": []
   },
   "outputs": [],
   "source": [
    "# others imports\n",
    "\n",
    "import imageio\n",
    "from skimage import transform,io\n",
    "import matplotlib.pyplot as plt\n",
    "\n",
    "from sklearn.model_selection import train_test_split\n",
    "from sklearn.metrics import mean_squared_error\n",
    "\n",
    "import tensorflow as tf\n",
    "from tensorflow import keras\n",
    "from tensorflow.keras.callbacks import EarlyStopping, ModelCheckpoint\n",
    "from keras.layers import BatchNormalization\n",
    "from keras.layers import Dropout, Flatten, Conv2D, MaxPool2D, Dense\n",
    "\n",
    "from keras.layers import Dropout, Flatten, Conv2D, MaxPool2D, Dense\n",
    "from tensorflow.keras.preprocessing.image import ImageDataGenerator\n",
    "\n",
    "\n"
   ]
  },
  {
   "cell_type": "code",
   "execution_count": 3,
   "id": "ee4128bf",
   "metadata": {
    "execution": {
     "iopub.execute_input": "2022-01-11T12:19:13.535603Z",
     "iopub.status.busy": "2022-01-11T12:19:13.534911Z",
     "iopub.status.idle": "2022-01-11T12:19:13.549368Z",
     "shell.execute_reply": "2022-01-11T12:19:13.548878Z",
     "shell.execute_reply.started": "2022-01-11T11:33:22.053424Z"
    },
    "papermill": {
     "duration": 0.035532,
     "end_time": "2022-01-11T12:19:13.549484",
     "exception": false,
     "start_time": "2022-01-11T12:19:13.513952",
     "status": "completed"
    },
    "tags": []
   },
   "outputs": [],
   "source": [
    "np.random.seed(42)\n",
    "tf.random.set_seed(42)\n",
    "keras.backend.clear_session()"
   ]
  },
  {
   "cell_type": "code",
   "execution_count": 4,
   "id": "3fd7b523",
   "metadata": {
    "execution": {
     "iopub.execute_input": "2022-01-11T12:19:13.586441Z",
     "iopub.status.busy": "2022-01-11T12:19:13.585689Z",
     "iopub.status.idle": "2022-01-11T12:19:13.621202Z",
     "shell.execute_reply": "2022-01-11T12:19:13.620567Z",
     "shell.execute_reply.started": "2022-01-11T11:33:22.067408Z"
    },
    "papermill": {
     "duration": 0.055556,
     "end_time": "2022-01-11T12:19:13.621364",
     "exception": false,
     "start_time": "2022-01-11T12:19:13.565808",
     "status": "completed"
    },
    "tags": []
   },
   "outputs": [
    {
     "name": "stdout",
     "output_type": "stream",
     "text": [
      "(15000, 2)\n"
     ]
    }
   ],
   "source": [
    "df_train = pd.read_csv('../input/mlub2021-session8/train.txt',sep=' ',header=None)\n",
    "print(df_train.shape)"
   ]
  },
  {
   "cell_type": "code",
   "execution_count": 5,
   "id": "dd89b50d",
   "metadata": {
    "execution": {
     "iopub.execute_input": "2022-01-11T12:19:13.659710Z",
     "iopub.status.busy": "2022-01-11T12:19:13.659005Z",
     "iopub.status.idle": "2022-01-11T12:19:13.661409Z",
     "shell.execute_reply": "2022-01-11T12:19:13.661869Z",
     "shell.execute_reply.started": "2022-01-11T11:33:22.095266Z"
    },
    "papermill": {
     "duration": 0.022862,
     "end_time": "2022-01-11T12:19:13.661988",
     "exception": false,
     "start_time": "2022-01-11T12:19:13.639126",
     "status": "completed"
    },
    "tags": []
   },
   "outputs": [],
   "source": [
    "# take only the first 3000 images\n",
    "#df_train = df_train.head(3000)"
   ]
  },
  {
   "cell_type": "code",
   "execution_count": 6,
   "id": "323efdd3",
   "metadata": {
    "execution": {
     "iopub.execute_input": "2022-01-11T12:19:13.703372Z",
     "iopub.status.busy": "2022-01-11T12:19:13.702457Z",
     "iopub.status.idle": "2022-01-11T12:19:13.717160Z",
     "shell.execute_reply": "2022-01-11T12:19:13.717650Z",
     "shell.execute_reply.started": "2022-01-11T11:33:22.103195Z"
    },
    "papermill": {
     "duration": 0.038694,
     "end_time": "2022-01-11T12:19:13.717785",
     "exception": false,
     "start_time": "2022-01-11T12:19:13.679091",
     "status": "completed"
    },
    "tags": []
   },
   "outputs": [
    {
     "data": {
      "text/html": [
       "<div>\n",
       "<style scoped>\n",
       "    .dataframe tbody tr th:only-of-type {\n",
       "        vertical-align: middle;\n",
       "    }\n",
       "\n",
       "    .dataframe tbody tr th {\n",
       "        vertical-align: top;\n",
       "    }\n",
       "\n",
       "    .dataframe thead th {\n",
       "        text-align: right;\n",
       "    }\n",
       "</style>\n",
       "<table border=\"1\" class=\"dataframe\">\n",
       "  <thead>\n",
       "    <tr style=\"text-align: right;\">\n",
       "      <th></th>\n",
       "      <th>0</th>\n",
       "      <th>1</th>\n",
       "    </tr>\n",
       "  </thead>\n",
       "  <tbody>\n",
       "    <tr>\n",
       "      <th>0</th>\n",
       "      <td>/train/train_composite000000000.png</td>\n",
       "      <td>20</td>\n",
       "    </tr>\n",
       "    <tr>\n",
       "      <th>1</th>\n",
       "      <td>/train/train_composite000000001.png</td>\n",
       "      <td>18</td>\n",
       "    </tr>\n",
       "    <tr>\n",
       "      <th>2</th>\n",
       "      <td>/train/train_composite000000002.png</td>\n",
       "      <td>7</td>\n",
       "    </tr>\n",
       "    <tr>\n",
       "      <th>3</th>\n",
       "      <td>/train/train_composite000000003.png</td>\n",
       "      <td>18</td>\n",
       "    </tr>\n",
       "    <tr>\n",
       "      <th>4</th>\n",
       "      <td>/train/train_composite000000004.png</td>\n",
       "      <td>17</td>\n",
       "    </tr>\n",
       "    <tr>\n",
       "      <th>...</th>\n",
       "      <td>...</td>\n",
       "      <td>...</td>\n",
       "    </tr>\n",
       "    <tr>\n",
       "      <th>14995</th>\n",
       "      <td>/train/train_composite000014995.png</td>\n",
       "      <td>22</td>\n",
       "    </tr>\n",
       "    <tr>\n",
       "      <th>14996</th>\n",
       "      <td>/train/train_composite000014996.png</td>\n",
       "      <td>7</td>\n",
       "    </tr>\n",
       "    <tr>\n",
       "      <th>14997</th>\n",
       "      <td>/train/train_composite000014997.png</td>\n",
       "      <td>2</td>\n",
       "    </tr>\n",
       "    <tr>\n",
       "      <th>14998</th>\n",
       "      <td>/train/train_composite000014998.png</td>\n",
       "      <td>29</td>\n",
       "    </tr>\n",
       "    <tr>\n",
       "      <th>14999</th>\n",
       "      <td>/train/train_composite000014999.png</td>\n",
       "      <td>0</td>\n",
       "    </tr>\n",
       "  </tbody>\n",
       "</table>\n",
       "<p>15000 rows × 2 columns</p>\n",
       "</div>"
      ],
      "text/plain": [
       "                                         0   1\n",
       "0      /train/train_composite000000000.png  20\n",
       "1      /train/train_composite000000001.png  18\n",
       "2      /train/train_composite000000002.png   7\n",
       "3      /train/train_composite000000003.png  18\n",
       "4      /train/train_composite000000004.png  17\n",
       "...                                    ...  ..\n",
       "14995  /train/train_composite000014995.png  22\n",
       "14996  /train/train_composite000014996.png   7\n",
       "14997  /train/train_composite000014997.png   2\n",
       "14998  /train/train_composite000014998.png  29\n",
       "14999  /train/train_composite000014999.png   0\n",
       "\n",
       "[15000 rows x 2 columns]"
      ]
     },
     "execution_count": 6,
     "metadata": {},
     "output_type": "execute_result"
    }
   ],
   "source": [
    "df_train"
   ]
  },
  {
   "cell_type": "code",
   "execution_count": 7,
   "id": "237841cd",
   "metadata": {
    "execution": {
     "iopub.execute_input": "2022-01-11T12:19:13.762784Z",
     "iopub.status.busy": "2022-01-11T12:19:13.761845Z",
     "iopub.status.idle": "2022-01-11T12:19:13.774100Z",
     "shell.execute_reply": "2022-01-11T12:19:13.773567Z",
     "shell.execute_reply.started": "2022-01-11T11:33:22.123907Z"
    },
    "papermill": {
     "duration": 0.038751,
     "end_time": "2022-01-11T12:19:13.774224",
     "exception": false,
     "start_time": "2022-01-11T12:19:13.735473",
     "status": "completed"
    },
    "tags": []
   },
   "outputs": [
    {
     "data": {
      "text/html": [
       "<div>\n",
       "<style scoped>\n",
       "    .dataframe tbody tr th:only-of-type {\n",
       "        vertical-align: middle;\n",
       "    }\n",
       "\n",
       "    .dataframe tbody tr th {\n",
       "        vertical-align: top;\n",
       "    }\n",
       "\n",
       "    .dataframe thead th {\n",
       "        text-align: right;\n",
       "    }\n",
       "</style>\n",
       "<table border=\"1\" class=\"dataframe\">\n",
       "  <thead>\n",
       "    <tr style=\"text-align: right;\">\n",
       "      <th></th>\n",
       "      <th>1</th>\n",
       "    </tr>\n",
       "  </thead>\n",
       "  <tbody>\n",
       "    <tr>\n",
       "      <th>count</th>\n",
       "      <td>15000.000000</td>\n",
       "    </tr>\n",
       "    <tr>\n",
       "      <th>mean</th>\n",
       "      <td>14.377067</td>\n",
       "    </tr>\n",
       "    <tr>\n",
       "      <th>std</th>\n",
       "      <td>8.655134</td>\n",
       "    </tr>\n",
       "    <tr>\n",
       "      <th>min</th>\n",
       "      <td>0.000000</td>\n",
       "    </tr>\n",
       "    <tr>\n",
       "      <th>25%</th>\n",
       "      <td>7.000000</td>\n",
       "    </tr>\n",
       "    <tr>\n",
       "      <th>50%</th>\n",
       "      <td>14.000000</td>\n",
       "    </tr>\n",
       "    <tr>\n",
       "      <th>75%</th>\n",
       "      <td>22.000000</td>\n",
       "    </tr>\n",
       "    <tr>\n",
       "      <th>max</th>\n",
       "      <td>29.000000</td>\n",
       "    </tr>\n",
       "  </tbody>\n",
       "</table>\n",
       "</div>"
      ],
      "text/plain": [
       "                  1\n",
       "count  15000.000000\n",
       "mean      14.377067\n",
       "std        8.655134\n",
       "min        0.000000\n",
       "25%        7.000000\n",
       "50%       14.000000\n",
       "75%       22.000000\n",
       "max       29.000000"
      ]
     },
     "execution_count": 7,
     "metadata": {},
     "output_type": "execute_result"
    }
   ],
   "source": [
    "df_train.describe()"
   ]
  },
  {
   "cell_type": "code",
   "execution_count": 8,
   "id": "82b63f3f",
   "metadata": {
    "execution": {
     "iopub.execute_input": "2022-01-11T12:19:13.816306Z",
     "iopub.status.busy": "2022-01-11T12:19:13.815391Z",
     "iopub.status.idle": "2022-01-11T12:19:13.817449Z",
     "shell.execute_reply": "2022-01-11T12:19:13.817886Z",
     "shell.execute_reply.started": "2022-01-11T11:33:22.146159Z"
    },
    "papermill": {
     "duration": 0.023912,
     "end_time": "2022-01-11T12:19:13.818005",
     "exception": false,
     "start_time": "2022-01-11T12:19:13.794093",
     "status": "completed"
    },
    "tags": []
   },
   "outputs": [],
   "source": [
    "data_dir = '../input/mlub2021-session8/train/train/'"
   ]
  },
  {
   "cell_type": "code",
   "execution_count": 9,
   "id": "fc1c088e",
   "metadata": {
    "execution": {
     "iopub.execute_input": "2022-01-11T12:19:13.861481Z",
     "iopub.status.busy": "2022-01-11T12:19:13.860806Z",
     "iopub.status.idle": "2022-01-11T12:21:34.963644Z",
     "shell.execute_reply": "2022-01-11T12:21:34.964069Z",
     "shell.execute_reply.started": "2022-01-11T11:33:22.154359Z"
    },
    "papermill": {
     "duration": 141.128312,
     "end_time": "2022-01-11T12:21:34.964223",
     "exception": false,
     "start_time": "2022-01-11T12:19:13.835911",
     "status": "completed"
    },
    "tags": []
   },
   "outputs": [
    {
     "data": {
      "image/png": "[encoded data removed]",
      "text/plain": [
       "<Figure size 432x288 with 1 Axes>"
      ]
     },
     "metadata": {
      "needs_background": "light"
     },
     "output_type": "display_data"
    }
   ],
   "source": [
    "# extracted from theory notebooks\n",
    "# read images and store into a np array\n",
    "\n",
    "im_size = 64\n",
    "N = df_train.shape[0]\n",
    "X = np.zeros((N, im_size,im_size))\n",
    "y = np.zeros((N))\n",
    "cont = 0\n",
    "\n",
    "for ind, item in df_train.iterrows():\n",
    "    im       = imageio.imread(data_dir + item[0])/255. \n",
    "    small_im = transform.resize(im, (im_size,im_size), mode='symmetric', preserve_range=True)\n",
    "    X[cont, :,:] = small_im\n",
    "    y[cont] = item[1]\n",
    "    cont += 1\n",
    "    \n",
    "plt.imshow(small_im,cmap='gray')\n",
    "plt.show()"
   ]
  },
  {
   "cell_type": "markdown",
   "id": "5b58d46a",
   "metadata": {
    "papermill": {
     "duration": 0.01723,
     "end_time": "2022-01-11T12:21:34.999071",
     "exception": false,
     "start_time": "2022-01-11T12:21:34.981841",
     "status": "completed"
    },
    "tags": []
   },
   "source": [
    "For generating more images I used the lib:\n",
    "https://www.tensorflow.org/api_docs/python/tf/keras/preprocessing/image/ImageDataGenerator"
   ]
  },
  {
   "cell_type": "code",
   "execution_count": 10,
   "id": "f1001490",
   "metadata": {
    "execution": {
     "iopub.execute_input": "2022-01-11T12:21:35.040614Z",
     "iopub.status.busy": "2022-01-11T12:21:35.039301Z",
     "iopub.status.idle": "2022-01-11T12:21:35.041490Z",
     "shell.execute_reply": "2022-01-11T12:21:35.041894Z",
     "shell.execute_reply.started": "2022-01-11T11:35:00.285694Z"
    },
    "papermill": {
     "duration": 0.024141,
     "end_time": "2022-01-11T12:21:35.042015",
     "exception": false,
     "start_time": "2022-01-11T12:21:35.017874",
     "status": "completed"
    },
    "tags": []
   },
   "outputs": [],
   "source": [
    "data_generator = ImageDataGenerator(\n",
    "    rotation_range = 15,\n",
    "    width_shift_range = 0.1,\n",
    "    height_shift_range = 0.1,\n",
    "    horizontal_flip = True,\n",
    "    vertical_flip = True,\n",
    "    fill_mode = \"nearest\")"
   ]
  },
  {
   "cell_type": "markdown",
   "id": "99ca3ffb",
   "metadata": {
    "papermill": {
     "duration": 0.01734,
     "end_time": "2022-01-11T12:21:35.076825",
     "exception": false,
     "start_time": "2022-01-11T12:21:35.059485",
     "status": "completed"
    },
    "tags": []
   },
   "source": [
    "Generate train and test"
   ]
  },
  {
   "cell_type": "code",
   "execution_count": 11,
   "id": "27f12c7a",
   "metadata": {
    "execution": {
     "iopub.execute_input": "2022-01-11T12:21:35.118207Z",
     "iopub.status.busy": "2022-01-11T12:21:35.117127Z",
     "iopub.status.idle": "2022-01-11T12:21:35.264262Z",
     "shell.execute_reply": "2022-01-11T12:21:35.263804Z",
     "shell.execute_reply.started": "2022-01-11T11:35:00.294322Z"
    },
    "papermill": {
     "duration": 0.169978,
     "end_time": "2022-01-11T12:21:35.264425",
     "exception": false,
     "start_time": "2022-01-11T12:21:35.094447",
     "status": "completed"
    },
    "tags": []
   },
   "outputs": [],
   "source": [
    "X_train, X_val, y_train, y_val= train_test_split(X, y, test_size=0.3, random_state=66)"
   ]
  },
  {
   "cell_type": "code",
   "execution_count": 12,
   "id": "49897429",
   "metadata": {
    "execution": {
     "iopub.execute_input": "2022-01-11T12:21:35.304025Z",
     "iopub.status.busy": "2022-01-11T12:21:35.303249Z",
     "iopub.status.idle": "2022-01-11T12:21:35.305745Z",
     "shell.execute_reply": "2022-01-11T12:21:35.305296Z",
     "shell.execute_reply.started": "2022-01-11T11:35:00.508519Z"
    },
    "papermill": {
     "duration": 0.023678,
     "end_time": "2022-01-11T12:21:35.305846",
     "exception": false,
     "start_time": "2022-01-11T12:21:35.282168",
     "status": "completed"
    },
    "tags": []
   },
   "outputs": [],
   "source": [
    "# add 1 at the end to match input_shape of the model\n",
    "X_train = X_train.reshape(X_train.shape + (1,))\n",
    "X_val = X_val.reshape(X_val.shape + (1,))"
   ]
  },
  {
   "cell_type": "markdown",
   "id": "4c88d73e",
   "metadata": {
    "papermill": {
     "duration": 0.017463,
     "end_time": "2022-01-11T12:21:35.340498",
     "exception": false,
     "start_time": "2022-01-11T12:21:35.323035",
     "status": "completed"
    },
    "tags": []
   },
   "source": [
    "Generate the network model"
   ]
  },
  {
   "cell_type": "code",
   "execution_count": 13,
   "id": "37ee9fb9",
   "metadata": {
    "execution": {
     "iopub.execute_input": "2022-01-11T12:21:35.382784Z",
     "iopub.status.busy": "2022-01-11T12:21:35.382248Z",
     "iopub.status.idle": "2022-01-11T12:21:37.748261Z",
     "shell.execute_reply": "2022-01-11T12:21:37.748893Z",
     "shell.execute_reply.started": "2022-01-11T11:35:00.521446Z"
    },
    "papermill": {
     "duration": 2.391362,
     "end_time": "2022-01-11T12:21:37.749102",
     "exception": false,
     "start_time": "2022-01-11T12:21:35.357740",
     "status": "completed"
    },
    "tags": []
   },
   "outputs": [
    {
     "name": "stderr",
     "output_type": "stream",
     "text": [
      "2022-01-11 12:21:35.444456: I tensorflow/stream_executor/cuda/cuda_gpu_executor.cc:937] successful NUMA node read from SysFS had negative value (-1), but there must be at least one NUMA node, so returning NUMA node zero\n",
      "2022-01-11 12:21:35.532118: I tensorflow/stream_executor/cuda/cuda_gpu_executor.cc:937] successful NUMA node read from SysFS had negative value (-1), but there must be at least one NUMA node, so returning NUMA node zero\n",
      "2022-01-11 12:21:35.532819: I tensorflow/stream_executor/cuda/cuda_gpu_executor.cc:937] successful NUMA node read from SysFS had negative value (-1), but there must be at least one NUMA node, so returning NUMA node zero\n",
      "2022-01-11 12:21:35.533989: I tensorflow/core/platform/cpu_feature_guard.cc:142] This TensorFlow binary is optimized with oneAPI Deep Neural Network Library (oneDNN) to use the following CPU instructions in performance-critical operations:  AVX2 AVX512F FMA\n",
      "To enable them in other operations, rebuild TensorFlow with the appropriate compiler flags.\n",
      "2022-01-11 12:21:35.535095: I tensorflow/stream_executor/cuda/cuda_gpu_executor.cc:937] successful NUMA node read from SysFS had negative value (-1), but there must be at least one NUMA node, so returning NUMA node zero\n",
      "2022-01-11 12:21:35.535772: I tensorflow/stream_executor/cuda/cuda_gpu_executor.cc:937] successful NUMA node read from SysFS had negative value (-1), but there must be at least one NUMA node, so returning NUMA node zero\n",
      "2022-01-11 12:21:35.536389: I tensorflow/stream_executor/cuda/cuda_gpu_executor.cc:937] successful NUMA node read from SysFS had negative value (-1), but there must be at least one NUMA node, so returning NUMA node zero\n",
      "2022-01-11 12:21:37.319628: I tensorflow/stream_executor/cuda/cuda_gpu_executor.cc:937] successful NUMA node read from SysFS had negative value (-1), but there must be at least one NUMA node, so returning NUMA node zero\n",
      "2022-01-11 12:21:37.320425: I tensorflow/stream_executor/cuda/cuda_gpu_executor.cc:937] successful NUMA node read from SysFS had negative value (-1), but there must be at least one NUMA node, so returning NUMA node zero\n",
      "2022-01-11 12:21:37.321056: I tensorflow/stream_executor/cuda/cuda_gpu_executor.cc:937] successful NUMA node read from SysFS had negative value (-1), but there must be at least one NUMA node, so returning NUMA node zero\n",
      "2022-01-11 12:21:37.321655: I tensorflow/core/common_runtime/gpu/gpu_device.cc:1510] Created device /job:localhost/replica:0/task:0/device:GPU:0 with 15403 MB memory:  -> device: 0, name: Tesla P100-PCIE-16GB, pci bus id: 0000:00:04.0, compute capability: 6.0\n"
     ]
    }
   ],
   "source": [
    "# best model i tried\n",
    "model = keras.models.Sequential()\n",
    "model.add(Conv2D(filters=32, kernel_size=5, padding=\"same\", activation=\"relu\", input_shape=[64, 64, 1]))\n",
    "model.add(MaxPool2D(pool_size=2, strides=2, padding='valid'))\n",
    "\n",
    "model.add(Conv2D(filters=64, kernel_size=3, padding=\"same\", activation=\"relu\"))\n",
    "model.add(MaxPool2D(pool_size=2, strides=2, padding='valid'))\n",
    "\n",
    "model.add(Conv2D(filters=128, kernel_size=3, padding=\"same\", activation=\"relu\"))\n",
    "model.add(MaxPool2D(pool_size=2, strides=2, padding='valid'))\n",
    "\n",
    "model.add(Flatten())\n",
    "model.add(Dense(256, activation=\"relu\"))\n",
    "model.add(Dense(64, activation=\"relu\"))\n",
    "model.add(Dense(32, activation=\"relu\"))\n",
    "model.add(Dense(1, activation=\"linear\"))"
   ]
  },
  {
   "cell_type": "code",
   "execution_count": 14,
   "id": "5014a7b0",
   "metadata": {
    "execution": {
     "iopub.execute_input": "2022-01-11T12:21:37.793253Z",
     "iopub.status.busy": "2022-01-11T12:21:37.792417Z",
     "iopub.status.idle": "2022-01-11T12:21:37.801953Z",
     "shell.execute_reply": "2022-01-11T12:21:37.802415Z",
     "shell.execute_reply.started": "2022-01-11T12:02:47.318589Z"
    },
    "papermill": {
     "duration": 0.033417,
     "end_time": "2022-01-11T12:21:37.802548",
     "exception": false,
     "start_time": "2022-01-11T12:21:37.769131",
     "status": "completed"
    },
    "tags": []
   },
   "outputs": [
    {
     "name": "stdout",
     "output_type": "stream",
     "text": [
      "Model: \"sequential\"\n",
      "_________________________________________________________________\n",
      "Layer (type)                 Output Shape              Param #   \n",
      "=================================================================\n",
      "conv2d (Conv2D)              (None, 64, 64, 32)        832       \n",
      "_________________________________________________________________\n",
      "max_pooling2d (MaxPooling2D) (None, 32, 32, 32)        0         \n",
      "_________________________________________________________________\n",
      "conv2d_1 (Conv2D)            (None, 32, 32, 64)        18496     \n",
      "_________________________________________________________________\n",
      "max_pooling2d_1 (MaxPooling2 (None, 16, 16, 64)        0         \n",
      "_________________________________________________________________\n",
      "conv2d_2 (Conv2D)            (None, 16, 16, 128)       73856     \n",
      "_________________________________________________________________\n",
      "max_pooling2d_2 (MaxPooling2 (None, 8, 8, 128)         0         \n",
      "_________________________________________________________________\n",
      "flatten (Flatten)            (None, 8192)              0         \n",
      "_________________________________________________________________\n",
      "dense (Dense)                (None, 256)               2097408   \n",
      "_________________________________________________________________\n",
      "dense_1 (Dense)              (None, 64)                16448     \n",
      "_________________________________________________________________\n",
      "dense_2 (Dense)              (None, 32)                2080      \n",
      "_________________________________________________________________\n",
      "dense_3 (Dense)              (None, 1)                 33        \n",
      "=================================================================\n",
      "Total params: 2,209,153\n",
      "Trainable params: 2,209,153\n",
      "Non-trainable params: 0\n",
      "_________________________________________________________________\n"
     ]
    }
   ],
   "source": [
    "model.summary()"
   ]
  },
  {
   "cell_type": "code",
   "execution_count": 15,
   "id": "cbe1bf16",
   "metadata": {
    "execution": {
     "iopub.execute_input": "2022-01-11T12:21:37.844713Z",
     "iopub.status.busy": "2022-01-11T12:21:37.844051Z",
     "iopub.status.idle": "2022-01-11T12:21:37.847103Z",
     "shell.execute_reply": "2022-01-11T12:21:37.846619Z",
     "shell.execute_reply.started": "2022-01-11T12:02:49.293789Z"
    },
    "papermill": {
     "duration": 0.025413,
     "end_time": "2022-01-11T12:21:37.847212",
     "exception": false,
     "start_time": "2022-01-11T12:21:37.821799",
     "status": "completed"
    },
    "tags": []
   },
   "outputs": [
    {
     "data": {
      "text/plain": [
       "[<keras.layers.convolutional.Conv2D at 0x7f04367b9b50>,\n",
       " <keras.layers.pooling.MaxPooling2D at 0x7f04367b9a50>,\n",
       " <keras.layers.convolutional.Conv2D at 0x7f0436aadcd0>,\n",
       " <keras.layers.pooling.MaxPooling2D at 0x7f0436a9f290>,\n",
       " <keras.layers.convolutional.Conv2D at 0x7f0436953210>,\n",
       " <keras.layers.pooling.MaxPooling2D at 0x7f0436959a90>,\n",
       " <keras.layers.core.Flatten at 0x7f04369fa850>,\n",
       " <keras.layers.core.Dense at 0x7f043696dd90>,\n",
       " <keras.layers.core.Dense at 0x7f0436959ed0>,\n",
       " <keras.layers.core.Dense at 0x7f0436960bd0>,\n",
       " <keras.layers.core.Dense at 0x7f0436973290>]"
      ]
     },
     "execution_count": 15,
     "metadata": {},
     "output_type": "execute_result"
    }
   ],
   "source": [
    "model.layers"
   ]
  },
  {
   "cell_type": "code",
   "execution_count": 16,
   "id": "b84a00d9",
   "metadata": {
    "execution": {
     "iopub.execute_input": "2022-01-11T12:21:37.889549Z",
     "iopub.status.busy": "2022-01-11T12:21:37.888762Z",
     "iopub.status.idle": "2022-01-11T12:21:37.900111Z",
     "shell.execute_reply": "2022-01-11T12:21:37.899546Z",
     "shell.execute_reply.started": "2022-01-11T12:02:51.432283Z"
    },
    "papermill": {
     "duration": 0.034842,
     "end_time": "2022-01-11T12:21:37.900231",
     "exception": false,
     "start_time": "2022-01-11T12:21:37.865389",
     "status": "completed"
    },
    "tags": []
   },
   "outputs": [],
   "source": [
    "model.compile(loss=\"mean_squared_error\", optimizer=\"Adam\",metrics=[\"mean_squared_error\",tf.keras.metrics.MeanAbsoluteError()])"
   ]
  },
  {
   "cell_type": "code",
   "execution_count": 17,
   "id": "1a220a7c",
   "metadata": {
    "execution": {
     "iopub.execute_input": "2022-01-11T12:21:37.941263Z",
     "iopub.status.busy": "2022-01-11T12:21:37.940504Z",
     "iopub.status.idle": "2022-01-11T12:21:37.942501Z",
     "shell.execute_reply": "2022-01-11T12:21:37.942946Z",
     "shell.execute_reply.started": "2022-01-11T12:02:52.947093Z"
    },
    "papermill": {
     "duration": 0.024328,
     "end_time": "2022-01-11T12:21:37.943067",
     "exception": false,
     "start_time": "2022-01-11T12:21:37.918739",
     "status": "completed"
    },
    "tags": []
   },
   "outputs": [],
   "source": [
    "early_stopping_cb = keras.callbacks.EarlyStopping(patience=10, restore_best_weights=True)\n",
    "check_pointer = ModelCheckpoint(filepath = \"my_keras_model.h5\", save_best_only=True)"
   ]
  },
  {
   "cell_type": "code",
   "execution_count": 18,
   "id": "7077b3ef",
   "metadata": {
    "execution": {
     "iopub.execute_input": "2022-01-11T12:21:37.983942Z",
     "iopub.status.busy": "2022-01-11T12:21:37.981703Z",
     "iopub.status.idle": "2022-01-11T12:26:56.098853Z",
     "shell.execute_reply": "2022-01-11T12:26:56.094953Z",
     "shell.execute_reply.started": "2022-01-11T12:02:54.526344Z"
    },
    "papermill": {
     "duration": 318.137794,
     "end_time": "2022-01-11T12:26:56.098985",
     "exception": false,
     "start_time": "2022-01-11T12:21:37.961191",
     "status": "completed"
    },
    "tags": []
   },
   "outputs": [
    {
     "name": "stderr",
     "output_type": "stream",
     "text": [
      "2022-01-11 12:21:38.145772: I tensorflow/compiler/mlir/mlir_graph_optimization_pass.cc:185] None of the MLIR Optimization Passes are enabled (registered 2)\n"
     ]
    },
    {
     "name": "stdout",
     "output_type": "stream",
     "text": [
      "Epoch 1/200\n"
     ]
    },
    {
     "name": "stderr",
     "output_type": "stream",
     "text": [
      "2022-01-11 12:21:39.475395: I tensorflow/stream_executor/cuda/cuda_dnn.cc:369] Loaded cuDNN version 8005\n"
     ]
    },
    {
     "name": "stdout",
     "output_type": "stream",
     "text": [
      "164/164 [==============================] - 12s 34ms/step - loss: 64.4518 - mean_squared_error: 64.4518 - mean_absolute_error: 6.5991 - val_loss: 35.5774 - val_mean_squared_error: 35.5774 - val_mean_absolute_error: 4.9545\n",
      "Epoch 2/200\n",
      "164/164 [==============================] - 6s 37ms/step - loss: 15.9387 - mean_squared_error: 15.9387 - mean_absolute_error: 3.1090 - val_loss: 11.9183 - val_mean_squared_error: 11.9183 - val_mean_absolute_error: 2.7321\n",
      "Epoch 3/200\n",
      "164/164 [==============================] - 6s 35ms/step - loss: 13.3519 - mean_squared_error: 13.3519 - mean_absolute_error: 2.8568 - val_loss: 16.1875 - val_mean_squared_error: 16.1875 - val_mean_absolute_error: 3.2388\n",
      "Epoch 4/200\n",
      "164/164 [==============================] - 6s 35ms/step - loss: 10.9359 - mean_squared_error: 10.9359 - mean_absolute_error: 2.5465 - val_loss: 6.0825 - val_mean_squared_error: 6.0825 - val_mean_absolute_error: 1.8924\n",
      "Epoch 5/200\n",
      "164/164 [==============================] - 6s 35ms/step - loss: 8.5303 - mean_squared_error: 8.5303 - mean_absolute_error: 2.2604 - val_loss: 11.9283 - val_mean_squared_error: 11.9283 - val_mean_absolute_error: 2.7254\n",
      "Epoch 6/200\n",
      "164/164 [==============================] - 5s 32ms/step - loss: 8.1197 - mean_squared_error: 8.1197 - mean_absolute_error: 2.2019 - val_loss: 14.6405 - val_mean_squared_error: 14.6405 - val_mean_absolute_error: 3.1100\n",
      "Epoch 7/200\n",
      "164/164 [==============================] - 5s 32ms/step - loss: 7.6033 - mean_squared_error: 7.6033 - mean_absolute_error: 2.1275 - val_loss: 7.3304 - val_mean_squared_error: 7.3304 - val_mean_absolute_error: 2.0766\n",
      "Epoch 8/200\n",
      "164/164 [==============================] - 5s 32ms/step - loss: 6.8208 - mean_squared_error: 6.8208 - mean_absolute_error: 2.0092 - val_loss: 7.9443 - val_mean_squared_error: 7.9443 - val_mean_absolute_error: 2.2014\n",
      "Epoch 9/200\n",
      "164/164 [==============================] - 5s 32ms/step - loss: 7.0945 - mean_squared_error: 7.0945 - mean_absolute_error: 2.0428 - val_loss: 4.4024 - val_mean_squared_error: 4.4024 - val_mean_absolute_error: 1.6166\n",
      "Epoch 10/200\n",
      "164/164 [==============================] - 6s 34ms/step - loss: 7.2999 - mean_squared_error: 7.2999 - mean_absolute_error: 2.0428 - val_loss: 4.3218 - val_mean_squared_error: 4.3218 - val_mean_absolute_error: 1.5556\n",
      "Epoch 11/200\n",
      "164/164 [==============================] - 5s 33ms/step - loss: 5.5166 - mean_squared_error: 5.5166 - mean_absolute_error: 1.8043 - val_loss: 3.9905 - val_mean_squared_error: 3.9905 - val_mean_absolute_error: 1.5088\n",
      "Epoch 12/200\n",
      "164/164 [==============================] - 5s 31ms/step - loss: 5.6785 - mean_squared_error: 5.6785 - mean_absolute_error: 1.8243 - val_loss: 6.9801 - val_mean_squared_error: 6.9801 - val_mean_absolute_error: 1.9911\n",
      "Epoch 13/200\n",
      "164/164 [==============================] - 5s 32ms/step - loss: 5.5505 - mean_squared_error: 5.5505 - mean_absolute_error: 1.7986 - val_loss: 3.6563 - val_mean_squared_error: 3.6563 - val_mean_absolute_error: 1.4718\n",
      "Epoch 14/200\n",
      "164/164 [==============================] - 7s 40ms/step - loss: 5.2199 - mean_squared_error: 5.2199 - mean_absolute_error: 1.7516 - val_loss: 4.4623 - val_mean_squared_error: 4.4623 - val_mean_absolute_error: 1.5643\n",
      "Epoch 15/200\n",
      "164/164 [==============================] - 5s 32ms/step - loss: 5.6188 - mean_squared_error: 5.6188 - mean_absolute_error: 1.8188 - val_loss: 4.1575 - val_mean_squared_error: 4.1575 - val_mean_absolute_error: 1.6073\n",
      "Epoch 16/200\n",
      "164/164 [==============================] - 5s 31ms/step - loss: 5.4021 - mean_squared_error: 5.4021 - mean_absolute_error: 1.7660 - val_loss: 3.0105 - val_mean_squared_error: 3.0105 - val_mean_absolute_error: 1.2977\n",
      "Epoch 17/200\n",
      "164/164 [==============================] - 6s 34ms/step - loss: 5.1347 - mean_squared_error: 5.1347 - mean_absolute_error: 1.7397 - val_loss: 5.0897 - val_mean_squared_error: 5.0897 - val_mean_absolute_error: 1.6858\n",
      "Epoch 18/200\n",
      "164/164 [==============================] - 7s 40ms/step - loss: 4.5518 - mean_squared_error: 4.5518 - mean_absolute_error: 1.6303 - val_loss: 3.6202 - val_mean_squared_error: 3.6202 - val_mean_absolute_error: 1.4113\n",
      "Epoch 19/200\n",
      "164/164 [==============================] - 6s 34ms/step - loss: 4.6591 - mean_squared_error: 4.6591 - mean_absolute_error: 1.6445 - val_loss: 4.2426 - val_mean_squared_error: 4.2426 - val_mean_absolute_error: 1.5173\n",
      "Epoch 20/200\n",
      "164/164 [==============================] - 6s 34ms/step - loss: 4.7943 - mean_squared_error: 4.7943 - mean_absolute_error: 1.6725 - val_loss: 3.1021 - val_mean_squared_error: 3.1021 - val_mean_absolute_error: 1.3092\n",
      "Epoch 21/200\n",
      "164/164 [==============================] - 5s 32ms/step - loss: 4.5403 - mean_squared_error: 4.5403 - mean_absolute_error: 1.6169 - val_loss: 3.7541 - val_mean_squared_error: 3.7541 - val_mean_absolute_error: 1.4825\n",
      "Epoch 22/200\n",
      "164/164 [==============================] - 6s 38ms/step - loss: 4.5903 - mean_squared_error: 4.5903 - mean_absolute_error: 1.6309 - val_loss: 11.9407 - val_mean_squared_error: 11.9407 - val_mean_absolute_error: 2.7564\n",
      "Epoch 23/200\n",
      "164/164 [==============================] - 6s 34ms/step - loss: 4.7150 - mean_squared_error: 4.7150 - mean_absolute_error: 1.6545 - val_loss: 5.0777 - val_mean_squared_error: 5.0777 - val_mean_absolute_error: 1.6784\n",
      "Epoch 24/200\n",
      "164/164 [==============================] - 5s 32ms/step - loss: 4.2883 - mean_squared_error: 4.2883 - mean_absolute_error: 1.5852 - val_loss: 3.7158 - val_mean_squared_error: 3.7158 - val_mean_absolute_error: 1.4086\n",
      "Epoch 25/200\n",
      "164/164 [==============================] - 5s 32ms/step - loss: 4.2886 - mean_squared_error: 4.2886 - mean_absolute_error: 1.5786 - val_loss: 2.8413 - val_mean_squared_error: 2.8413 - val_mean_absolute_error: 1.2888\n",
      "Epoch 26/200\n",
      "164/164 [==============================] - 6s 39ms/step - loss: 5.0578 - mean_squared_error: 5.0578 - mean_absolute_error: 1.7159 - val_loss: 3.0919 - val_mean_squared_error: 3.0919 - val_mean_absolute_error: 1.3056\n",
      "Epoch 27/200\n",
      "164/164 [==============================] - 6s 35ms/step - loss: 4.1994 - mean_squared_error: 4.1994 - mean_absolute_error: 1.5542 - val_loss: 3.7057 - val_mean_squared_error: 3.7057 - val_mean_absolute_error: 1.4590\n",
      "Epoch 28/200\n",
      "164/164 [==============================] - 5s 33ms/step - loss: 4.0020 - mean_squared_error: 4.0020 - mean_absolute_error: 1.5308 - val_loss: 2.7787 - val_mean_squared_error: 2.7787 - val_mean_absolute_error: 1.2504\n",
      "Epoch 29/200\n",
      "164/164 [==============================] - 5s 33ms/step - loss: 4.0527 - mean_squared_error: 4.0527 - mean_absolute_error: 1.5324 - val_loss: 5.9829 - val_mean_squared_error: 5.9829 - val_mean_absolute_error: 2.1007\n",
      "Epoch 30/200\n",
      "164/164 [==============================] - 7s 40ms/step - loss: 4.0172 - mean_squared_error: 4.0172 - mean_absolute_error: 1.5222 - val_loss: 3.5306 - val_mean_squared_error: 3.5306 - val_mean_absolute_error: 1.5117\n",
      "Epoch 31/200\n",
      "164/164 [==============================] - 5s 32ms/step - loss: 3.9940 - mean_squared_error: 3.9940 - mean_absolute_error: 1.5231 - val_loss: 3.3462 - val_mean_squared_error: 3.3462 - val_mean_absolute_error: 1.4335\n",
      "Epoch 32/200\n",
      "164/164 [==============================] - 6s 35ms/step - loss: 3.9639 - mean_squared_error: 3.9639 - mean_absolute_error: 1.5090 - val_loss: 3.8567 - val_mean_squared_error: 3.8567 - val_mean_absolute_error: 1.4695\n",
      "Epoch 33/200\n",
      "164/164 [==============================] - 5s 33ms/step - loss: 4.1699 - mean_squared_error: 4.1699 - mean_absolute_error: 1.5601 - val_loss: 2.8368 - val_mean_squared_error: 2.8368 - val_mean_absolute_error: 1.2677\n",
      "Epoch 34/200\n",
      "164/164 [==============================] - 6s 35ms/step - loss: 4.0265 - mean_squared_error: 4.0265 - mean_absolute_error: 1.5271 - val_loss: 3.3143 - val_mean_squared_error: 3.3143 - val_mean_absolute_error: 1.3482\n",
      "Epoch 35/200\n",
      "164/164 [==============================] - 5s 32ms/step - loss: 4.8774 - mean_squared_error: 4.8774 - mean_absolute_error: 1.6882 - val_loss: 2.7894 - val_mean_squared_error: 2.7894 - val_mean_absolute_error: 1.2535\n",
      "Epoch 36/200\n",
      "164/164 [==============================] - 5s 31ms/step - loss: 4.1844 - mean_squared_error: 4.1844 - mean_absolute_error: 1.5550 - val_loss: 3.1570 - val_mean_squared_error: 3.1570 - val_mean_absolute_error: 1.4068\n",
      "Epoch 37/200\n",
      "164/164 [==============================] - 6s 34ms/step - loss: 3.9044 - mean_squared_error: 3.9044 - mean_absolute_error: 1.5051 - val_loss: 3.0776 - val_mean_squared_error: 3.0776 - val_mean_absolute_error: 1.2960\n",
      "Epoch 38/200\n",
      "164/164 [==============================] - 6s 34ms/step - loss: 4.2024 - mean_squared_error: 4.2024 - mean_absolute_error: 1.5667 - val_loss: 6.5540 - val_mean_squared_error: 6.5540 - val_mean_absolute_error: 1.9140\n"
     ]
    }
   ],
   "source": [
    "history = model.fit(data_generator.flow(X_train, y_train, batch_size=64),steps_per_epoch=len(X_train) // 64, \n",
    "                    epochs=200, validation_data=(X_val, y_val), verbose=1, callbacks=[early_stopping_cb, check_pointer])"
   ]
  },
  {
   "cell_type": "code",
   "execution_count": 19,
   "id": "e481067c",
   "metadata": {
    "execution": {
     "iopub.execute_input": "2022-01-11T12:26:57.919165Z",
     "iopub.status.busy": "2022-01-11T12:26:57.917162Z",
     "iopub.status.idle": "2022-01-11T12:27:02.048442Z",
     "shell.execute_reply": "2022-01-11T12:27:02.049734Z",
     "shell.execute_reply.started": "2022-01-11T12:14:37.292603Z"
    },
    "papermill": {
     "duration": 5.045607,
     "end_time": "2022-01-11T12:27:02.049986",
     "exception": false,
     "start_time": "2022-01-11T12:26:57.004379",
     "status": "completed"
    },
    "tags": []
   },
   "outputs": [],
   "source": [
    "# resize test files\n",
    "test_dir = '../input/mlub2021-session8/test/test/test/'\n",
    "im_size = 64\n",
    "N = 500\n",
    "X_test = np.zeros((N, im_size,im_size))\n",
    "cont = 0\n",
    "\n",
    "for x in range(500):\n",
    "    im       = imageio.imread(test_dir + 'test_composite'+str(x).zfill(9) + '.png')/255.\n",
    "    small_im = transform.resize(im, (im_size,im_size), mode='symmetric', preserve_range=True)\n",
    "    X_test[cont, :,:] = small_im\n",
    "    cont += 1"
   ]
  },
  {
   "cell_type": "code",
   "execution_count": 20,
   "id": "0056ce2f",
   "metadata": {
    "execution": {
     "iopub.execute_input": "2022-01-11T12:27:04.011627Z",
     "iopub.status.busy": "2022-01-11T12:27:04.010424Z",
     "iopub.status.idle": "2022-01-11T12:27:10.662859Z",
     "shell.execute_reply": "2022-01-11T12:27:10.662308Z",
     "shell.execute_reply.started": "2022-01-11T12:14:40.233897Z"
    },
    "papermill": {
     "duration": 7.642803,
     "end_time": "2022-01-11T12:27:10.663029",
     "exception": false,
     "start_time": "2022-01-11T12:27:03.020226",
     "status": "completed"
    },
    "tags": []
   },
   "outputs": [],
   "source": [
    "X_test = X_test.reshape(500, 64, 64, 1)\n",
    "# predict and submit\n",
    "\n",
    "y_test = model.predict(X_test)\n",
    "y_test = [int(x[0]) for x in y_test]\n",
    "\n",
    "df_output = pd.DataFrame(y_test)\n",
    "df_output.index.name = 'index'\n",
    "df_output.columns = ['prediction']\n",
    "df_output.to_csv('output.csv')\n",
    "\n"
   ]
  }
 ],
 "metadata": {
  "kernelspec": {
   "display_name": "Python 3",
   "language": "python",
   "name": "python3"
  },
  "language_info": {
   "codemirror_mode": {
    "name": "ipython",
    "version": 3
   },
   "file_extension": ".py",
   "mimetype": "text/x-python",
   "name": "python",
   "nbconvert_exporter": "python",
   "pygments_lexer": "ipython3",
   "version": "3.7.12"
  },
  "papermill": {
   "default_parameters": {},
   "duration": 499.672034,
   "end_time": "2022-01-11T12:27:14.485084",
   "environment_variables": {},
   "exception": null,
   "input_path": "__notebook__.ipynb",
   "output_path": "__notebook__.ipynb",
   "parameters": {},
   "start_time": "2022-01-11T12:18:54.813050",
   "version": "2.3.3"
  }
 },
 "nbformat": 4,
 "nbformat_minor": 5
}
